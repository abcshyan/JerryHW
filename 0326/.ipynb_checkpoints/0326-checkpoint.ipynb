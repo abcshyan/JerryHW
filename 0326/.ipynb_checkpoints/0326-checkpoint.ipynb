{
 "cells": [
  {
   "cell_type": "markdown",
   "metadata": {},
   "source": [
    "Homework1"
   ]
  },
  {
   "cell_type": "code",
   "execution_count": 21,
   "metadata": {},
   "outputs": [
    {
     "name": "stdout",
     "output_type": "stream",
     "text": [
      "請輸入數字:5\n"
     ]
    },
    {
     "data": {
      "text/plain": [
       "[105]"
      ]
     },
     "execution_count": 21,
     "metadata": {},
     "output_type": "execute_result"
    }
   ],
   "source": [
    "x = int(input(\"請輸入數字:\"))\n",
    "x_list = list()\n",
    "x_list.append(x)\n",
    "list(map(lambda x : x + 100, x_list))"
   ]
  },
  {
   "cell_type": "markdown",
   "metadata": {},
   "source": [
    "Homework2"
   ]
  },
  {
   "cell_type": "code",
   "execution_count": 43,
   "metadata": {},
   "outputs": [],
   "source": [
    "def multiply_int(multiply):\n",
    "    def new_multiply(args,kwargs):\n",
    "        result = multiply(args,kwargs)\n",
    "        print('add_ints:',result)\n",
    "        print('multiply_int:',args * kwargs)\n",
    "    return new_multiply"
   ]
  },
  {
   "cell_type": "code",
   "execution_count": 44,
   "metadata": {},
   "outputs": [],
   "source": [
    "def add_ints(a, b):\n",
    "    print('add_ints結果:',a + b)"
   ]
  },
  {
   "cell_type": "code",
   "execution_count": 45,
   "metadata": {},
   "outputs": [
    {
     "name": "stdout",
     "output_type": "stream",
     "text": [
      "add_ints結果: 3\n"
     ]
    }
   ],
   "source": [
    "add_ints(1,2)"
   ]
  },
  {
   "cell_type": "code",
   "execution_count": 46,
   "metadata": {},
   "outputs": [],
   "source": [
    "@multiply_int\n",
    "def add_ints(a, b):\n",
    "    return a + b"
   ]
  },
  {
   "cell_type": "code",
   "execution_count": 47,
   "metadata": {},
   "outputs": [
    {
     "name": "stdout",
     "output_type": "stream",
     "text": [
      "add_ints: 12\n",
      "multiply_int: 20\n"
     ]
    }
   ],
   "source": [
    "add_ints(2,10)"
   ]
  },
  {
   "cell_type": "markdown",
   "metadata": {},
   "source": [
    "Homework3"
   ]
  },
  {
   "cell_type": "code",
   "execution_count": 48,
   "metadata": {},
   "outputs": [
    {
     "name": "stdout",
     "output_type": "stream",
     "text": [
      "請輸入數字:0.5\n",
      "出錯，請重新輸入\n"
     ]
    }
   ],
   "source": [
    "try:\n",
    "    x = int(input(\"請輸入數字:\"))\n",
    "    print(x)\n",
    "except:\n",
    "    print(\"出錯，請重新輸入\")"
   ]
  },
  {
   "cell_type": "markdown",
   "metadata": {},
   "source": [
    "Homework4"
   ]
  },
  {
   "cell_type": "code",
   "execution_count": 60,
   "metadata": {
    "scrolled": true
   },
   "outputs": [
    {
     "name": "stdout",
     "output_type": "stream",
     "text": [
      "請輸入第一個數字:5\n",
      "請輸入第二個數字:5\n",
      "請輸入+-*/:中\n",
      "輸入錯誤\n"
     ]
    }
   ],
   "source": [
    "def add(arg1, arg2):\n",
    "    return arg1 + arg2\n",
    "def sub(arg1, arg2):\n",
    "    return arg1 - arg2\n",
    "def mul(arg1, arg2):\n",
    "    return arg1 * arg2\n",
    "def div(arg1, arg2):\n",
    "    return arg1 / arg2\n",
    "try:\n",
    "    x = int(input(\"請輸入第一個數字:\"))\n",
    "    y = int(input(\"請輸入第二個數字:\"))\n",
    "    z = input(\"請輸入+-*/:\")\n",
    "    if z == '+':\n",
    "        print(add(x,y))\n",
    "    elif z == '-':\n",
    "        print(sub(x,y))\n",
    "    elif z == '*':\n",
    "        print(mul(x,y))\n",
    "    elif z == '/':\n",
    "        print(div(x,y))\n",
    "    else:\n",
    "        print(\"輸入錯誤\")\n",
    "except:\n",
    "    print(\"輸入錯誤\")"
   ]
  },
  {
   "cell_type": "code",
   "execution_count": null,
   "metadata": {},
   "outputs": [],
   "source": []
  }
 ],
 "metadata": {
  "kernelspec": {
   "display_name": "Python 3",
   "language": "python",
   "name": "python3"
  },
  "language_info": {
   "codemirror_mode": {
    "name": "ipython",
    "version": 3
   },
   "file_extension": ".py",
   "mimetype": "text/x-python",
   "name": "python",
   "nbconvert_exporter": "python",
   "pygments_lexer": "ipython3",
   "version": "3.6.4"
  }
 },
 "nbformat": 4,
 "nbformat_minor": 2
}
